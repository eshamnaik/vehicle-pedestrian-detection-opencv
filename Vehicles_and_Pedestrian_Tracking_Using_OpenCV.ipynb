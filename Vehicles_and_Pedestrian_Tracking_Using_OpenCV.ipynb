{
 "cells": [
  {
   "cell_type": "code",
   "execution_count": null,
   "id": "4a487aa2",
   "metadata": {
    "vscode": {
     "languageId": "plaintext"
    }
   },
   "outputs": [],
   "source": [
    "# Developed by: Esha Naik\n",
    "# Project: Vehicle and Pedestrian Tracking using OpenCV\n",
    "# Description: Detects moving vehicles and humans using Haar Cascade classifiers\n",
    "\n",
    "import cv2\n",
    "\n",
    "video = cv2.VideoCapture(r'/mnt/data/23913cf8-8302-4f46-844e-2a8f5416f460.mp4')\n",
    "\n",
    "#Loading Haar cascade XML classifiers for cars and pedestrians\n",
    "car_tracker_file = r'C:\\YourPath\\HaarCascades\\cars.xml'\n",
    "pedestrian_tracker_file = r'C:\\YourPath\\HaarCascades\\haarcascade_fullbody.xml'\n",
    "\n",
    "# Step 3: Create classifiers\n",
    "car_tracker = cv2.CascadeClassifier(car_tracker_file)\n",
    "pedestrian_tracker = cv2.CascadeClassifier(pedestrian_tracker_file)\n",
    "\n",
    "# Step 4: Read and process frames\n",
    "while True:\n",
    "    (read_successful, frame) = video.read()\n",
    "    \n",
    "    if not read_successful:\n",
    "        break\n",
    "\n",
    "    greyscaled_frame = cv2.cvtColor(frame, cv2.COLOR_BGR2GRAY)\n",
    "\n",
    "    # Detect cars and pedestrians\n",
    "    cars = car_tracker.detectMultiScale(greyscaled_frame)\n",
    "    pedestrians = pedestrian_tracker.detectMultiScale(greyscaled_frame)\n",
    "\n",
    "    # Draw rectangles around detected cars\n",
    "    for (x, y, w, h) in cars:\n",
    "        cv2.rectangle(frame, (x, y), (x + w, y + h), (0, 0, 255), 2)\n",
    "        cv2.putText(frame, 'VEHICLE', (x, y - 10), cv2.FONT_HERSHEY_SIMPLEX, 0.9, (36, 255, 70), 2)\n",
    "\n",
    "    # Draw rectangles around detected pedestrians\n",
    "    for (x, y, w, h) in pedestrians:\n",
    "        cv2.rectangle(frame, (x, y), (x + w, y + h), (0, 255, 255), 2)\n",
    "        cv2.putText(frame, 'HUMAN', (x, y - 10), cv2.FONT_HERSHEY_SIMPLEX, 0.9, (36, 255, 12), 2)\n",
    "\n",
    "    # Display output frame\n",
    "    cv2.imshow('Vehicle and Pedestrian Detector - Esha Naik', frame)\n",
    "\n",
    "    key = cv2.waitKey(1)\n",
    "\n",
    "    # Press 'q' or 'Q' to exit\n",
    "    if key == ord('q') or key == ord('Q'):\n",
    "        break\n",
    "\n",
    "# Release resources\n",
    "video.release()\n",
    "cv2.destroyAllWindows()"
   ]
  }
 ],
 "metadata": {
  "language_info": {
   "name": "python"
  }
 },
 "nbformat": 4,
 "nbformat_minor": 5
}
